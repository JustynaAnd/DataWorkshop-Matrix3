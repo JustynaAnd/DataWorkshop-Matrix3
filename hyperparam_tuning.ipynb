{
  "nbformat": 4,
  "nbformat_minor": 0,
  "metadata": {
    "colab": {
      "name": "hyperparam_tuning.ipynb",
      "provenance": [],
      "collapsed_sections": [],
      "mount_file_id": "1XowdC71lKqfVgzM3kABJBvzVu1CcyRzw",
      "authorship_tag": "ABX9TyPBiF7Isy4a2p8vtyaQIYf7",
      "include_colab_link": true
    },
    "kernelspec": {
      "name": "python3",
      "display_name": "Python 3"
    },
    "accelerator": "GPU"
  },
  "cells": [
    {
      "cell_type": "markdown",
      "metadata": {
        "id": "view-in-github",
        "colab_type": "text"
      },
      "source": [
        "<a href=\"https://colab.research.google.com/github/JustynaAnd/DataWorkshop-Matrix3/blob/master/hyperparam_tuning.ipynb\" target=\"_parent\"><img src=\"https://colab.research.google.com/assets/colab-badge.svg\" alt=\"Open In Colab\"/></a>"
      ]
    },
    {
      "cell_type": "code",
      "metadata": {
        "id": "IEp0APBfmRIN",
        "colab_type": "code",
        "colab": {
          "base_uri": "https://localhost:8080/",
          "height": 52
        },
        "outputId": "33bde71d-38f2-4110-b512-9921e2797dc9"
      },
      "source": [
        "import pandas as pd\n",
        "import numpy as np\n",
        "import os\n",
        "import datetime\n",
        "import matplotlib.pyplot as plt\n",
        "from skimage import color, exposure\n",
        "\n",
        "import tensorflow as tf\n",
        "from tensorflow.keras.models import Sequential\n",
        "from tensorflow.keras.layers import Conv2D, MaxPool2D, Dense, Flatten, Dropout \n",
        "from tensorflow.keras.utils import to_categorical\n",
        "from sklearn.metrics import accuracy_score\n",
        "\n",
        "from hyperopt import hp, STATUS_OK, tpe, Trials, fmin\n",
        "%load_ext tensorboard"
      ],
      "execution_count": 11,
      "outputs": [
        {
          "output_type": "stream",
          "text": [
            "The tensorboard extension is already loaded. To reload it, use:\n",
            "  %reload_ext tensorboard\n"
          ],
          "name": "stdout"
        }
      ]
    },
    {
      "cell_type": "code",
      "metadata": {
        "id": "SOlmA9Qo-wcp",
        "colab_type": "code",
        "colab": {
          "base_uri": "https://localhost:8080/",
          "height": 193
        },
        "outputId": "d5d45452-2b10-4135-a71f-57cad54fd10b"
      },
      "source": [
        "!pip install hyperopt"
      ],
      "execution_count": 24,
      "outputs": [
        {
          "output_type": "stream",
          "text": [
            "Requirement already satisfied: hyperopt in /usr/local/lib/python3.6/dist-packages (0.1.2)\n",
            "Requirement already satisfied: future in /usr/local/lib/python3.6/dist-packages (from hyperopt) (0.16.0)\n",
            "Requirement already satisfied: numpy in /usr/local/lib/python3.6/dist-packages (from hyperopt) (1.18.2)\n",
            "Requirement already satisfied: scipy in /usr/local/lib/python3.6/dist-packages (from hyperopt) (1.4.1)\n",
            "Requirement already satisfied: tqdm in /usr/local/lib/python3.6/dist-packages (from hyperopt) (4.38.0)\n",
            "Requirement already satisfied: six in /usr/local/lib/python3.6/dist-packages (from hyperopt) (1.12.0)\n",
            "Requirement already satisfied: pymongo in /usr/local/lib/python3.6/dist-packages (from hyperopt) (3.10.1)\n",
            "Requirement already satisfied: networkx in /usr/local/lib/python3.6/dist-packages (from hyperopt) (2.4)\n",
            "Requirement already satisfied: decorator>=4.3.0 in /usr/local/lib/python3.6/dist-packages (from networkx->hyperopt) (4.4.2)\n"
          ],
          "name": "stdout"
        }
      ]
    },
    {
      "cell_type": "code",
      "metadata": {
        "id": "4cxmGosvnPkr",
        "colab_type": "code",
        "colab": {
          "base_uri": "https://localhost:8080/",
          "height": 35
        },
        "outputId": "e144f093-a01e-4582-be2f-dcf597536616"
      },
      "source": [
        "cd '/content/drive/My Drive/Colab Notebooks/DataWorkshop-Matrix/matrix3/DataWorkshop-Matrix3'"
      ],
      "execution_count": 25,
      "outputs": [
        {
          "output_type": "stream",
          "text": [
            "/content/drive/My Drive/Colab Notebooks/DataWorkshop-Matrix/matrix3/DataWorkshop-Matrix3\n"
          ],
          "name": "stdout"
        }
      ]
    },
    {
      "cell_type": "code",
      "metadata": {
        "id": "ljp1xriwnSq0",
        "colab_type": "code",
        "colab": {}
      },
      "source": [
        "train = pd.read_pickle('data/train.p')\n",
        "test = pd.read_pickle('data/test.p')\n",
        "\n",
        "X_train, y_train = train['features'], train['labels']\n",
        "X_test, y_test = test['features'], test['labels']"
      ],
      "execution_count": 0,
      "outputs": []
    },
    {
      "cell_type": "code",
      "metadata": {
        "id": "bW6YT9Innh4t",
        "colab_type": "code",
        "colab": {}
      },
      "source": [
        "if y_train.ndim == 1: y_train = to_categorical(y_train)\n",
        "if y_test.ndim == 1: y_test = to_categorical(y_test)\n",
        "\n",
        "input_shape = X_train.shape[1:]\n",
        "num_classes = y_train.shape[1]"
      ],
      "execution_count": 0,
      "outputs": []
    },
    {
      "cell_type": "code",
      "metadata": {
        "id": "zN6IGM_bnm5b",
        "colab_type": "code",
        "colab": {}
      },
      "source": [
        "def train_model(model, X_train, y_train, params_fit={}):\n",
        "  model.compile(loss = 'categorical_crossentropy', optimizer = 'Adam', metrics = ['accuracy'])\n",
        "\n",
        "  logdir = os.path.join('logs', datetime.datetime.now().strftime('%Y%m%d-%H%M%S'))\n",
        "  tensorboard_callback = tf.keras.callbacks.TensorBoard(logdir, histogram_freq = 1)\n",
        "\n",
        "  model.fit(X_train, \n",
        "            y_train,\n",
        "            batch_size = params_fit.get('batch_size', 128),\n",
        "            epochs = params_fit.get('epochs', 5),\n",
        "            verbose = params_fit.get('verbose', 1),\n",
        "            validation_data = params_fit.get('validation_data', (X_train, y_train)),\n",
        "            callbacks = [tensorboard_callback]\n",
        "            )\n",
        "  return model\n",
        "\n",
        "\n",
        "def predict(model_trained, X_test, y_test, scoring = accuracy_score):\n",
        "\n",
        "  y_test_norm = np.argmax(y_test, axis = 1)\n",
        "\n",
        "  y_pred_prob = model_trained.predict(X_test)\n",
        "  y_pred = np.argmax(y_pred_prob, axis = 1)\n",
        "\n",
        "  return scoring(y_test_norm, y_pred)"
      ],
      "execution_count": 0,
      "outputs": []
    },
    {
      "cell_type": "code",
      "metadata": {
        "id": "trw_XxBBn6vQ",
        "colab_type": "code",
        "colab": {}
      },
      "source": [
        "def get_cnn_v5(input_shape, num_classes):\n",
        "  return Sequential([\n",
        "                    Conv2D(filters = 32, kernel_size = (3, 3), activation = 'relu', input_shape = input_shape),\n",
        "                    Conv2D(filters = 32, kernel_size = (3, 3), activation = 'relu', input_shape = input_shape),\n",
        "                    Conv2D(filters = 32, kernel_size = (3, 3), activation = 'relu', padding = 'same'),\n",
        "                    MaxPool2D(),\n",
        "                    Dropout(0.3),\n",
        "                    \n",
        "                    Conv2D(filters = 64, kernel_size = (3, 3), activation = 'relu', padding = 'same'),\n",
        "                    Conv2D(filters = 64, kernel_size = (3, 3), activation = 'relu'),\n",
        "                    MaxPool2D(),\n",
        "                    Dropout(0.3),\n",
        "                     \n",
        "                    Conv2D(filters = 64, kernel_size = (3, 3), activation = 'relu', padding = 'same'),\n",
        "                    Conv2D(filters = 64, kernel_size = (3, 3), activation = 'relu'),\n",
        "                    MaxPool2D(),\n",
        "                    Dropout(0.3),\n",
        "                     \n",
        "                    Flatten(),\n",
        "                     \n",
        "                    Dense(1024, activation = 'relu'),\n",
        "                    Dropout(0.3),\n",
        "                    Dense(1024, activation = 'relu'),\n",
        "                    Dropout(0.3),\n",
        "                     \n",
        "                    Dense(num_classes, activation = 'softmax'),\n",
        "                     ])"
      ],
      "execution_count": 0,
      "outputs": []
    },
    {
      "cell_type": "code",
      "metadata": {
        "id": "I4z-gXOQoLvr",
        "colab_type": "code",
        "colab": {
          "base_uri": "https://localhost:8080/",
          "height": 245
        },
        "outputId": "879cb689-7166-4af6-928b-2dece6f66545"
      },
      "source": [
        "model = get_cnn_v5(input_shape, num_classes)\n",
        "model_trained = train_model(model, X_train, y_train)\n",
        "predict(model_trained, X_test, y_test)"
      ],
      "execution_count": 30,
      "outputs": [
        {
          "output_type": "stream",
          "text": [
            "Epoch 1/5\n",
            "  2/272 [..............................] - ETA: 8:26 - loss: 8.8404 - accuracy: 0.0391WARNING:tensorflow:Method (on_train_batch_end) is slow compared to the batch update (1.868042). Check your callbacks.\n",
            "272/272 [==============================] - 9s 35ms/step - loss: 2.3990 - accuracy: 0.3339 - val_loss: 0.7505 - val_accuracy: 0.7856\n",
            "Epoch 2/5\n",
            "272/272 [==============================] - 6s 20ms/step - loss: 0.6188 - accuracy: 0.8114 - val_loss: 0.1447 - val_accuracy: 0.9542\n",
            "Epoch 3/5\n",
            "272/272 [==============================] - 6s 21ms/step - loss: 0.2986 - accuracy: 0.9087 - val_loss: 0.0811 - val_accuracy: 0.9757\n",
            "Epoch 4/5\n",
            "272/272 [==============================] - 5s 20ms/step - loss: 0.2030 - accuracy: 0.9393 - val_loss: 0.0529 - val_accuracy: 0.9840\n",
            "Epoch 5/5\n",
            "272/272 [==============================] - 5s 20ms/step - loss: 0.1644 - accuracy: 0.9514 - val_loss: 0.0386 - val_accuracy: 0.9891\n"
          ],
          "name": "stdout"
        },
        {
          "output_type": "execute_result",
          "data": {
            "text/plain": [
              "0.962358276643991"
            ]
          },
          "metadata": {
            "tags": []
          },
          "execution_count": 30
        }
      ]
    },
    {
      "cell_type": "code",
      "metadata": {
        "id": "FTTaMJ9DpUEM",
        "colab_type": "code",
        "colab": {
          "base_uri": "https://localhost:8080/",
          "height": 52
        },
        "outputId": "6690c765-ae85-4a89-d9f8-453f0f22d7a8"
      },
      "source": [
        "model_trained.evaluate(X_test, y_test)[1]"
      ],
      "execution_count": 31,
      "outputs": [
        {
          "output_type": "stream",
          "text": [
            "138/138 [==============================] - 1s 4ms/step - loss: 0.1574 - accuracy: 0.9624\n"
          ],
          "name": "stdout"
        },
        {
          "output_type": "execute_result",
          "data": {
            "text/plain": [
              "0.962358295917511"
            ]
          },
          "metadata": {
            "tags": []
          },
          "execution_count": 31
        }
      ]
    },
    {
      "cell_type": "code",
      "metadata": {
        "id": "Ox2lsIAwyRKc",
        "colab_type": "code",
        "colab": {}
      },
      "source": [
        "def get_model(params):\n",
        "  return Sequential([\n",
        "                    Conv2D(filters = 32, kernel_size = (3, 3), activation = 'relu', input_shape = input_shape),\n",
        "                    Conv2D(filters = 32, kernel_size = (3, 3), activation = 'relu', padding = 'same'),\n",
        "                    MaxPool2D(),\n",
        "                    Dropout(params['dropout_cnn_block_one']),\n",
        "                    \n",
        "                    Conv2D(filters = 64, kernel_size = (3, 3), activation = 'relu', padding = 'same'),\n",
        "                    Conv2D(filters = 64, kernel_size = (3, 3), activation = 'relu'),\n",
        "                    MaxPool2D(),\n",
        "                    Dropout(params['dropout_cnn_block_two']),\n",
        "                     \n",
        "                    Conv2D(filters = 128, kernel_size = (3, 3), activation = 'relu', padding = 'same'),\n",
        "                    Conv2D(filters = 128, kernel_size = (3, 3), activation = 'relu'),\n",
        "                    MaxPool2D(),\n",
        "                    Dropout(params['dropout_cnn_block_three']),\n",
        "                     \n",
        "                    Flatten(),\n",
        "                     \n",
        "                    Dense(1024, activation = 'relu'),\n",
        "                    Dropout(params['dropout_dense_block_one']),\n",
        "                    Dense(1024, activation = 'relu'),\n",
        "                    Dropout(params['dropout_dense_block_two']),\n",
        "                     \n",
        "                    Dense(num_classes, activation = 'softmax'),\n",
        "                    ])"
      ],
      "execution_count": 0,
      "outputs": []
    },
    {
      "cell_type": "code",
      "metadata": {
        "id": "4EVL_SWIoexU",
        "colab_type": "code",
        "colab": {}
      },
      "source": [
        "def func_obj(params):\n",
        "  \n",
        "  model = get_model(params)\n",
        "  model.compile(loss = 'categorical_crossentropy', optimizer = 'Adam', metrics = ['accuracy'])\n",
        "\n",
        "  model.fit(\n",
        "      X_train,\n",
        "      y_train,\n",
        "      batch_size = int(params.get('batch_size', 128)),\n",
        "      epochs = 5,\n",
        "      verbose = 0\n",
        "      )\n",
        "  score = model.evaluate(X_test, y_test, verbose = 0)\n",
        "  accuracy = score[1]\n",
        "  print(params, 'accuracy = {}'.format(accuracy))\n",
        "\n",
        "  return {'loss': -accuracy, 'status': STATUS_OK, 'model': model}"
      ],
      "execution_count": 0,
      "outputs": []
    },
    {
      "cell_type": "code",
      "metadata": {
        "id": "OXas7ufZwzCH",
        "colab_type": "code",
        "colab": {
          "base_uri": "https://localhost:8080/",
          "height": 1000
        },
        "outputId": "7df9b329-516d-4510-ae6b-0d84ccec216a"
      },
      "source": [
        "space = {\n",
        "    'batch_size': hp.quniform('batch_size', 100, 200, 10),\n",
        "    'dropout_cnn_block_one': hp.uniform('dropout_cnn_block_one', 0.3, 0.5),\n",
        "    'dropout_cnn_block_two': hp.uniform('dropout_cnn_block_two', 0.3, 0.5),\n",
        "    'dropout_cnn_block_three': hp.uniform('dropout_cnn_block_three', 0.3, 0.5),\n",
        "    'dropout_dense_block_one': hp.uniform('dropout_dense_block_one', 0.3, 0.7),\n",
        "    'dropout_dense_block_two': hp.uniform('dropout_dense_block_two', 0.3, 0.7),\n",
        "\n",
        "}\n",
        "\n",
        "\n",
        "best = fmin(\n",
        "    func_obj, \n",
        "    space,\n",
        "    tpe.suggest,\n",
        "    30,\n",
        "    Trials()\n",
        ")"
      ],
      "execution_count": 36,
      "outputs": [
        {
          "output_type": "stream",
          "text": [
            "{'batch_size': 140.0, 'dropout_cnn_block_one': 0.4388535072361429, 'dropout_cnn_block_three': 0.49282115369549284, 'dropout_cnn_block_two': 0.38926927101802095, 'dropout_dense_block_one': 0.5131208281994434, 'dropout_dense_block_two': 0.5707143284321602}\n",
            "accuracy = 0.8884353637695312\n",
            "{'batch_size': 130.0, 'dropout_cnn_block_one': 0.3692637615988131, 'dropout_cnn_block_three': 0.33413273491164336, 'dropout_cnn_block_two': 0.3549282587062857, 'dropout_dense_block_one': 0.6251227378411643, 'dropout_dense_block_two': 0.3381051666728688}\n",
            "accuracy = 0.9517006874084473\n",
            "{'batch_size': 120.0, 'dropout_cnn_block_one': 0.40037610708857785, 'dropout_cnn_block_three': 0.3529074425332909, 'dropout_cnn_block_two': 0.3959036747205463, 'dropout_dense_block_one': 0.549131177355896, 'dropout_dense_block_two': 0.31134959337058526}\n",
            "accuracy = 0.9337868690490723\n",
            "{'batch_size': 190.0, 'dropout_cnn_block_one': 0.4122184644669461, 'dropout_cnn_block_three': 0.4102659218673299, 'dropout_cnn_block_two': 0.45624033173503203, 'dropout_dense_block_one': 0.4248203626233902, 'dropout_dense_block_two': 0.3727541683953574}\n",
            "accuracy = 0.9185941219329834\n",
            "{'batch_size': 170.0, 'dropout_cnn_block_one': 0.47214397418298537, 'dropout_cnn_block_three': 0.3076546539166647, 'dropout_cnn_block_two': 0.48786053533599844, 'dropout_dense_block_one': 0.40757659801674895, 'dropout_dense_block_two': 0.47273746001650385}\n",
            "accuracy = 0.9047619104385376\n",
            "{'batch_size': 170.0, 'dropout_cnn_block_one': 0.4033457132913143, 'dropout_cnn_block_three': 0.41909165818483857, 'dropout_cnn_block_two': 0.3978635100036836, 'dropout_dense_block_one': 0.3646916413466211, 'dropout_dense_block_two': 0.4729392911090594}\n",
            "accuracy = 0.9362812042236328\n",
            "{'batch_size': 100.0, 'dropout_cnn_block_one': 0.4636023589645487, 'dropout_cnn_block_three': 0.43734506814756613, 'dropout_cnn_block_two': 0.4034617432760568, 'dropout_dense_block_one': 0.40119675347015876, 'dropout_dense_block_two': 0.5132123499387118}\n",
            "accuracy = 0.915192723274231\n",
            "{'batch_size': 200.0, 'dropout_cnn_block_one': 0.3226938409863835, 'dropout_cnn_block_three': 0.48678014152638355, 'dropout_cnn_block_two': 0.49174149834789777, 'dropout_dense_block_one': 0.6648611854507297, 'dropout_dense_block_two': 0.6643168212593303}\n",
            "accuracy = 0.6900226473808289\n",
            "{'batch_size': 130.0, 'dropout_cnn_block_one': 0.34055582168753473, 'dropout_cnn_block_three': 0.3118790665735129, 'dropout_cnn_block_two': 0.4964810974010025, 'dropout_dense_block_one': 0.6883915035684522, 'dropout_dense_block_two': 0.5165322964612706}\n",
            "accuracy = 0.9358276724815369\n",
            "{'batch_size': 110.0, 'dropout_cnn_block_one': 0.4911050716654589, 'dropout_cnn_block_three': 0.4619757133198746, 'dropout_cnn_block_two': 0.39245372004504436, 'dropout_dense_block_one': 0.4613411912805424, 'dropout_dense_block_two': 0.5694124757011025}\n",
            "accuracy = 0.875283420085907\n",
            "{'batch_size': 140.0, 'dropout_cnn_block_one': 0.35009351572867425, 'dropout_cnn_block_three': 0.3760132928758465, 'dropout_cnn_block_two': 0.37486398320531755, 'dropout_dense_block_one': 0.3020515018626647, 'dropout_dense_block_two': 0.6241751714349535}\n",
            "accuracy = 0.9501133561134338\n",
            "{'batch_size': 200.0, 'dropout_cnn_block_one': 0.318834915700353, 'dropout_cnn_block_three': 0.4801187543180404, 'dropout_cnn_block_two': 0.3107464062750648, 'dropout_dense_block_one': 0.35957595831498135, 'dropout_dense_block_two': 0.6991930665652546}\n",
            "accuracy = 0.9260770678520203\n",
            "{'batch_size': 140.0, 'dropout_cnn_block_one': 0.3104325561774745, 'dropout_cnn_block_three': 0.40220207696530463, 'dropout_cnn_block_two': 0.38629009827559885, 'dropout_dense_block_one': 0.31113465872233054, 'dropout_dense_block_two': 0.31614608040108677}\n",
            "accuracy = 0.976190447807312\n",
            "{'batch_size': 150.0, 'dropout_cnn_block_one': 0.41218395641562333, 'dropout_cnn_block_three': 0.4572983944508627, 'dropout_cnn_block_two': 0.45675941562874856, 'dropout_dense_block_one': 0.5400905706903752, 'dropout_dense_block_two': 0.350380447977064}\n",
            "accuracy = 0.8680272102355957\n",
            "{'batch_size': 170.0, 'dropout_cnn_block_one': 0.4051006529355968, 'dropout_cnn_block_three': 0.3275204692898882, 'dropout_cnn_block_two': 0.4221501297600163, 'dropout_dense_block_one': 0.6229658898402037, 'dropout_dense_block_two': 0.5734019025517278}\n",
            "accuracy = 0.9158729910850525\n",
            "{'batch_size': 150.0, 'dropout_cnn_block_one': 0.46890350347817844, 'dropout_cnn_block_three': 0.3672300062788068, 'dropout_cnn_block_two': 0.3070626951856332, 'dropout_dense_block_one': 0.35178695295522244, 'dropout_dense_block_two': 0.4461515516796336}\n",
            "accuracy = 0.9269841313362122\n",
            "{'batch_size': 180.0, 'dropout_cnn_block_one': 0.3687532625881529, 'dropout_cnn_block_three': 0.3266360568781583, 'dropout_cnn_block_two': 0.4389710280343233, 'dropout_dense_block_one': 0.5155841494923636, 'dropout_dense_block_two': 0.32480534632186875}\n",
            "accuracy = 0.9358276724815369\n",
            "{'batch_size': 130.0, 'dropout_cnn_block_one': 0.3218241758211225, 'dropout_cnn_block_three': 0.40920667281264345, 'dropout_cnn_block_two': 0.46713712536457525, 'dropout_dense_block_one': 0.6993650323982065, 'dropout_dense_block_two': 0.3524366208612193}\n",
            "accuracy = 0.8845804929733276\n",
            "{'batch_size': 160.0, 'dropout_cnn_block_one': 0.47817574677620467, 'dropout_cnn_block_three': 0.4806379510368834, 'dropout_cnn_block_two': 0.38209997670495033, 'dropout_dense_block_one': 0.4897347731414471, 'dropout_dense_block_two': 0.6462332128793599}\n",
            "accuracy = 0.80498868227005\n",
            "{'batch_size': 110.0, 'dropout_cnn_block_one': 0.3454528850133855, 'dropout_cnn_block_three': 0.426522215719643, 'dropout_cnn_block_two': 0.36848567237153285, 'dropout_dense_block_one': 0.32456863194301594, 'dropout_dense_block_two': 0.42981099249694643}\n",
            "accuracy = 0.9668934345245361\n",
            "{'batch_size': 100.0, 'dropout_cnn_block_one': 0.30837762270453895, 'dropout_cnn_block_three': 0.38633538308924403, 'dropout_cnn_block_two': 0.332058595338991, 'dropout_dense_block_one': 0.31136290768986413, 'dropout_dense_block_two': 0.4261765256918864}\n",
            "accuracy = 0.9714285731315613\n",
            "{'batch_size': 110.0, 'dropout_cnn_block_one': 0.3032032018746602, 'dropout_cnn_block_three': 0.38730698878746395, 'dropout_cnn_block_two': 0.33633412880737873, 'dropout_dense_block_one': 0.3035000024106459, 'dropout_dense_block_two': 0.3948189159095644}\n",
            "accuracy = 0.9614512324333191\n",
            "{'batch_size': 100.0, 'dropout_cnn_block_one': 0.30137673137766197, 'dropout_cnn_block_three': 0.39355033388907096, 'dropout_cnn_block_two': 0.33393453463868045, 'dropout_dense_block_one': 0.32503108422500526, 'dropout_dense_block_two': 0.41546105169623493}\n",
            "accuracy = 0.9655328989028931\n",
            "{'batch_size': 140.0, 'dropout_cnn_block_one': 0.3749704957030936, 'dropout_cnn_block_three': 0.3614391116649503, 'dropout_cnn_block_two': 0.3316704141187944, 'dropout_dense_block_one': 0.4434868957266003, 'dropout_dense_block_two': 0.30550424272873417}\n",
            "accuracy = 0.9401360750198364\n",
            "{'batch_size': 120.0, 'dropout_cnn_block_one': 0.3023498741138958, 'dropout_cnn_block_three': 0.4475868742169923, 'dropout_cnn_block_two': 0.3561863383601822, 'dropout_dense_block_one': 0.38633642648046457, 'dropout_dense_block_two': 0.3923299072862385}\n",
            "accuracy = 0.960090696811676\n",
            "{'batch_size': 160.0, 'dropout_cnn_block_one': 0.33504452401698587, 'dropout_cnn_block_three': 0.3460892998964143, 'dropout_cnn_block_two': 0.41664268666515736, 'dropout_dense_block_one': 0.30245874425705893, 'dropout_dense_block_two': 0.467715060072598}\n",
            "accuracy = 0.9628117680549622\n",
            "{'batch_size': 120.0, 'dropout_cnn_block_one': 0.3832456447373711, 'dropout_cnn_block_three': 0.38303147042490543, 'dropout_cnn_block_two': 0.32062567018263083, 'dropout_dense_block_one': 0.3324081022366784, 'dropout_dense_block_two': 0.30106275479715816}\n",
            "accuracy = 0.9462584853172302\n",
            "{'batch_size': 100.0, 'dropout_cnn_block_one': 0.3593016420860107, 'dropout_cnn_block_three': 0.40166503535212933, 'dropout_cnn_block_two': 0.35861625680282244, 'dropout_dense_block_one': 0.3796089383987289, 'dropout_dense_block_two': 0.5331850196933632}\n",
            "accuracy = 0.9541950225830078\n",
            "{'batch_size': 140.0, 'dropout_cnn_block_one': 0.4313341455649907, 'dropout_cnn_block_three': 0.43106333677952025, 'dropout_cnn_block_two': 0.3449750660791763, 'dropout_dense_block_one': 0.5803878500060344, 'dropout_dense_block_two': 0.37076581802593556}\n",
            "accuracy = 0.9233559966087341\n",
            "{'batch_size': 190.0, 'dropout_cnn_block_one': 0.31761497487585505, 'dropout_cnn_block_three': 0.375342120089407, 'dropout_cnn_block_two': 0.42634487736433435, 'dropout_dense_block_one': 0.4739281900847082, 'dropout_dense_block_two': 0.4039864976511931}\n",
            "accuracy = 0.9573696255683899\n",
            "100%|██████████| 30/30 [07:54<00:00, 15.83s/it, best loss: -0.976190447807312]\n"
          ],
          "name": "stdout"
        }
      ]
    },
    {
      "cell_type": "code",
      "metadata": {
        "id": "ypYKruMh4od_",
        "colab_type": "code",
        "colab": {}
      },
      "source": [
        ""
      ],
      "execution_count": 0,
      "outputs": []
    }
  ]
}